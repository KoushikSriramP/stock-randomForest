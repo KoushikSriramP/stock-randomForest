{
 "cells": [
  {
   "cell_type": "markdown",
   "id": "4ce4a9a0",
   "metadata": {},
   "source": [
    "# Predicting weather Reliance stock market goes Up or Down using Random Forest"
   ]
  },
  {
   "cell_type": "code",
   "execution_count": 1,
   "id": "da04132d",
   "metadata": {
    "scrolled": true
   },
   "outputs": [
    {
     "name": "stderr",
     "output_type": "stream",
     "text": [
      "C:\\Users\\koushik\\AppData\\Roaming\\Python\\Python311\\site-packages\\yfinance\\base.py:48: FutureWarning: The default dtype for empty Series will be 'object' instead of 'float64' in a future version. Specify a dtype explicitly to silence this warning.\n",
      "  _empty_series = pd.Series()\n"
     ]
    }
   ],
   "source": [
    "# Import libraries\n",
    "import yfinance as yf\n",
    "import numpy as np\n",
    "%matplotlib inline\n",
    "import matplotlib.pyplot as plt\n",
    "\n",
    "from sklearn.ensemble import RandomForestClassifier\n",
    "from sklearn.ensemble import RandomForestClassifier\n",
    "from sklearn.metrics import accuracy_score, classification_report"
   ]
  },
  {
   "cell_type": "markdown",
   "id": "a8a38518",
   "metadata": {},
   "source": [
    "### Getting the Stock data"
   ]
  },
  {
   "cell_type": "code",
   "execution_count": 2,
   "id": "0356c57b",
   "metadata": {},
   "outputs": [
    {
     "name": "stderr",
     "output_type": "stream",
     "text": [
      "[*********************100%%**********************]  1 of 1 completed\n"
     ]
    },
    {
     "data": {
      "text/html": [
       "<div>\n",
       "<style scoped>\n",
       "    .dataframe tbody tr th:only-of-type {\n",
       "        vertical-align: middle;\n",
       "    }\n",
       "\n",
       "    .dataframe tbody tr th {\n",
       "        vertical-align: top;\n",
       "    }\n",
       "\n",
       "    .dataframe thead th {\n",
       "        text-align: right;\n",
       "    }\n",
       "</style>\n",
       "<table border=\"1\" class=\"dataframe\">\n",
       "  <thead>\n",
       "    <tr style=\"text-align: right;\">\n",
       "      <th></th>\n",
       "      <th>Open</th>\n",
       "      <th>High</th>\n",
       "      <th>Low</th>\n",
       "      <th>Close</th>\n",
       "      <th>Adj Close</th>\n",
       "      <th>Volume</th>\n",
       "    </tr>\n",
       "    <tr>\n",
       "      <th>Date</th>\n",
       "      <th></th>\n",
       "      <th></th>\n",
       "      <th></th>\n",
       "      <th></th>\n",
       "      <th></th>\n",
       "      <th></th>\n",
       "    </tr>\n",
       "  </thead>\n",
       "  <tbody>\n",
       "    <tr>\n",
       "      <th>2023-06-22</th>\n",
       "      <td>2359.187256</td>\n",
       "      <td>2375.155029</td>\n",
       "      <td>2337.035156</td>\n",
       "      <td>2340.265625</td>\n",
       "      <td>2332.027832</td>\n",
       "      <td>3809583</td>\n",
       "    </tr>\n",
       "    <tr>\n",
       "      <th>2023-06-23</th>\n",
       "      <td>2334.173828</td>\n",
       "      <td>2338.327393</td>\n",
       "      <td>2318.575195</td>\n",
       "      <td>2321.113525</td>\n",
       "      <td>2312.943115</td>\n",
       "      <td>3314285</td>\n",
       "    </tr>\n",
       "    <tr>\n",
       "      <th>2023-06-26</th>\n",
       "      <td>2313.960205</td>\n",
       "      <td>2321.713379</td>\n",
       "      <td>2297.069336</td>\n",
       "      <td>2303.391846</td>\n",
       "      <td>2295.283936</td>\n",
       "      <td>6320579</td>\n",
       "    </tr>\n",
       "    <tr>\n",
       "      <th>2023-06-27</th>\n",
       "      <td>2304.314941</td>\n",
       "      <td>2316.267578</td>\n",
       "      <td>2295.177246</td>\n",
       "      <td>2304.222656</td>\n",
       "      <td>2296.111816</td>\n",
       "      <td>4844733</td>\n",
       "    </tr>\n",
       "    <tr>\n",
       "      <th>2023-06-28</th>\n",
       "      <td>2319.498291</td>\n",
       "      <td>2342.434814</td>\n",
       "      <td>2305.514648</td>\n",
       "      <td>2334.727783</td>\n",
       "      <td>2326.509521</td>\n",
       "      <td>5677003</td>\n",
       "    </tr>\n",
       "  </tbody>\n",
       "</table>\n",
       "</div>"
      ],
      "text/plain": [
       "                   Open         High          Low        Close    Adj Close  \\\n",
       "Date                                                                          \n",
       "2023-06-22  2359.187256  2375.155029  2337.035156  2340.265625  2332.027832   \n",
       "2023-06-23  2334.173828  2338.327393  2318.575195  2321.113525  2312.943115   \n",
       "2023-06-26  2313.960205  2321.713379  2297.069336  2303.391846  2295.283936   \n",
       "2023-06-27  2304.314941  2316.267578  2295.177246  2304.222656  2296.111816   \n",
       "2023-06-28  2319.498291  2342.434814  2305.514648  2334.727783  2326.509521   \n",
       "\n",
       "             Volume  \n",
       "Date                 \n",
       "2023-06-22  3809583  \n",
       "2023-06-23  3314285  \n",
       "2023-06-26  6320579  \n",
       "2023-06-27  4844733  \n",
       "2023-06-28  5677003  "
      ]
     },
     "execution_count": 2,
     "metadata": {},
     "output_type": "execute_result"
    }
   ],
   "source": [
    "# Fetch the Reliance price data\n",
    "data = yf.download('RELIANCE.NS', start=\"2019-01-01\", end=\"2023-06-30\")\n",
    "\n",
    "# Display the data\n",
    "data.tail()"
   ]
  },
  {
   "cell_type": "markdown",
   "id": "447695a9",
   "metadata": {},
   "source": [
    "### Feature construction"
   ]
  },
  {
   "cell_type": "code",
   "execution_count": 3,
   "id": "3089830a",
   "metadata": {},
   "outputs": [],
   "source": [
    "# Features construction\n",
    "data['Open-Close'] = (data.Open - data.Close)/data.Open\n",
    "data['High-Low'] = (data.High - data.Low)/data.Low\n",
    "data['percent_change'] = data['Adj Close'].pct_change()\n",
    "data['std_5'] = data['percent_change'].rolling(5).std()\n",
    "data['ret_5'] = data['percent_change'].rolling(5).mean()\n",
    "data.dropna(inplace=True)\n",
    "\n",
    "# X is the input variable\n",
    "X = data[['Open-Close', 'High-Low', 'std_5', 'ret_5']]\n",
    "\n",
    "# Y is the target or output variable\n",
    "y = np.where(data['Adj Close'].shift(-1) > data['Adj Close'], 1, -1)"
   ]
  },
  {
   "cell_type": "markdown",
   "id": "e76bea0e",
   "metadata": {},
   "source": [
    "### Train-Test split"
   ]
  },
  {
   "cell_type": "code",
   "execution_count": 4,
   "id": "b84eb4c7",
   "metadata": {},
   "outputs": [
    {
     "data": {
      "text/plain": [
       "829"
      ]
     },
     "execution_count": 4,
     "metadata": {},
     "output_type": "execute_result"
    }
   ],
   "source": [
    "# Total dataset length\n",
    "dataset_length = data.shape[0]\n",
    "\n",
    "# Training dataset length\n",
    "split = int(dataset_length * 0.75)\n",
    "split"
   ]
  },
  {
   "cell_type": "code",
   "execution_count": 5,
   "id": "e1b42166",
   "metadata": {},
   "outputs": [
    {
     "name": "stdout",
     "output_type": "stream",
     "text": [
      "(829, 4) (277, 4)\n",
      "(829,) (277,)\n"
     ]
    }
   ],
   "source": [
    "# Splitiing the X and y into train and test datasets\n",
    "X_train, X_test = X[:split], X[split:]\n",
    "y_train, y_test = y[:split], y[split:]\n",
    "\n",
    "# Print the size of the train and test dataset\n",
    "print(X_train.shape, X_test.shape)\n",
    "print(y_train.shape, y_test.shape)"
   ]
  },
  {
   "cell_type": "markdown",
   "id": "358f85e6",
   "metadata": {},
   "source": [
    "### Creating the model on the data"
   ]
  },
  {
   "cell_type": "code",
   "execution_count": 6,
   "id": "14eccc7c",
   "metadata": {},
   "outputs": [
    {
     "name": "stdout",
     "output_type": "stream",
     "text": [
      "Correct Prediction (%):  46.931407942238266\n",
      "              precision    recall  f1-score   support\n",
      "\n",
      "          -1       0.45      0.33      0.38       137\n",
      "           1       0.48      0.61      0.54       140\n",
      "\n",
      "    accuracy                           0.47       277\n",
      "   macro avg       0.47      0.47      0.46       277\n",
      "weighted avg       0.47      0.47      0.46       277\n",
      "\n"
     ]
    }
   ],
   "source": [
    "# Create the model on train dataset\n",
    "\n",
    "clf = RandomForestClassifier(criterion='gini')\n",
    "model = clf.fit(X_train, y_train)\n",
    "\n",
    "\n",
    "print('Correct Prediction (%): ', accuracy_score(y_test, model.predict(X_test), normalize=True)*100.0)\n",
    "\n",
    "# Run the code to view the classification report metrics\n",
    "\n",
    "report = classification_report(y_test, model.predict(X_test))\n",
    "print(report)"
   ]
  },
  {
   "cell_type": "markdown",
   "id": "61176187",
   "metadata": {},
   "source": [
    "### The model has an accuracy of : 47%"
   ]
  },
  {
   "cell_type": "code",
   "execution_count": 7,
   "id": "bbd6ea9f",
   "metadata": {},
   "outputs": [
    {
     "data": {
      "image/png": "[encoded data removed]",
      "text/plain": [
       "<Figure size 640x480 with 1 Axes>"
      ]
     },
     "metadata": {},
     "output_type": "display_data"
    }
   ],
   "source": [
    "data['strategy_returns'] = data.percent_change.shift(-1) * model.predict(X)\n",
    "\n",
    "data.strategy_returns[split:].hist()\n",
    "plt.xlabel('Strategy returns (%)')\n",
    "plt.show()"
   ]
  },
  {
   "cell_type": "code",
   "execution_count": 8,
   "id": "a24b3bc6",
   "metadata": {},
   "outputs": [
    {
     "data": {
      "image/png": "[encoded data removed]",
      "text/plain": [
       "<Figure size 640x480 with 1 Axes>"
      ]
     },
     "metadata": {},
     "output_type": "display_data"
    }
   ],
   "source": [
    "(data.strategy_returns[split:]+1).cumprod().plot()\n",
    "plt.ylabel('Strategy returns (%)')\n",
    "plt.show()"
   ]
  },
  {
   "cell_type": "code",
   "execution_count": null,
   "id": "a8eda2b0",
   "metadata": {},
   "outputs": [],
   "source": []
  }
 ],
 "metadata": {
  "kernelspec": {
   "display_name": "Python 3 (ipykernel)",
   "language": "python",
   "name": "python3"
  },
  "language_info": {
   "codemirror_mode": {
    "name": "ipython",
    "version": 3
   },
   "file_extension": ".py",
   "mimetype": "text/x-python",
   "name": "python",
   "nbconvert_exporter": "python",
   "pygments_lexer": "ipython3",
   "version": "3.11.4"
  }
 },
 "nbformat": 4,
 "nbformat_minor": 5
}
